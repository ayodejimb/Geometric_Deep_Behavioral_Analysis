{
 "cells": [
  {
   "cell_type": "markdown",
   "metadata": {},
   "source": [
    "# To load the skeleton data for triple classification"
   ]
  },
  {
   "cell_type": "code",
   "execution_count": 1,
   "metadata": {},
   "outputs": [],
   "source": [
    "import pandas as pd\n",
    "import matplotlib.pyplot as plt\n",
    "import numpy as np\n",
    "import pickle\n",
    "import os"
   ]
  },
  {
   "cell_type": "code",
   "execution_count": 2,
   "metadata": {},
   "outputs": [],
   "source": [
    "# Directory to save the results (paths are modified according to category)\n",
    "save_dir = r'C:\\Downloads\\Multi_Class_OiP\\76px'\n",
    "\n",
    "if not os.path.exists(save_dir):\n",
    "    os.makedirs(save_dir)"
   ]
  },
  {
   "cell_type": "code",
   "execution_count": 3,
   "metadata": {},
   "outputs": [],
   "source": [
    "# Function to Load the CSV\n",
    "def load_csv_files_to_dict(folder_path):\n",
    "    data_dict = {}\n",
    "    for filename in os.listdir(folder_path):\n",
    "        if filename.endswith('.csv'):\n",
    "            file_path = os.path.join(folder_path, filename)\n",
    "            df = pd.read_csv(file_path).to_numpy()\n",
    "            file_key = os.path.splitext(filename)[0]\n",
    "            data_dict[file_key] = df\n",
    "\n",
    "    max_rows = max(array.shape[0] for array in data_dict.values())\n",
    "    max_cols = max(array.shape[1] for array in data_dict.values())\n",
    "    max_shape = (max_rows, max_cols)\n",
    "\n",
    "    return data_dict, max_shape"
   ]
  },
  {
   "cell_type": "code",
   "execution_count": 4,
   "metadata": {},
   "outputs": [],
   "source": [
    "dir_AD_2M = r'C:\\Downloads\\Multi_Class_OiP\\76px\\2M_AD'   # (paths are modified according to category)\n",
    "data_AD_2M, max_AD_2M = load_csv_files_to_dict(dir_AD_2M)"
   ]
  },
  {
   "cell_type": "code",
   "execution_count": null,
   "metadata": {},
   "outputs": [],
   "source": [
    "print(len(data_AD_2M.values()))\n",
    "print(max_AD_2M)"
   ]
  },
  {
   "cell_type": "code",
   "execution_count": null,
   "metadata": {},
   "outputs": [],
   "source": [
    "dir_AD_4M = r'C:\\Downloads\\Multi_Class_OiP\\76px\\4M_AD'   # (paths are modified according to category)\n",
    "data_AD_4M, max_AD_4M = load_csv_files_to_dict(dir_AD_4M)\n",
    "\n",
    "print(len(data_AD_4M.values()))\n",
    "print(max_AD_4M)"
   ]
  },
  {
   "cell_type": "code",
   "execution_count": null,
   "metadata": {},
   "outputs": [],
   "source": [
    "dir_AD_12M = r'C:\\Downloads\\Multi_Class_OiP\\76px\\12M_AD'  # (paths are modified according to category)\n",
    "data_AD_12M, max_AD_12M = load_csv_files_to_dict(dir_AD_12M)\n",
    "\n",
    "print(len(data_AD_12M.values()))\n",
    "print(max_AD_12M)"
   ]
  },
  {
   "cell_type": "code",
   "execution_count": null,
   "metadata": {},
   "outputs": [],
   "source": [
    "max_all = max(max_AD_2M, max_AD_4M, max_AD_12M)\n",
    "print(max_all)"
   ]
  },
  {
   "cell_type": "code",
   "execution_count": 11,
   "metadata": {},
   "outputs": [],
   "source": [
    "all_data = []\n",
    "for name, data in data_AD_2M.items():\n",
    "    padded_array = np.pad(data, ((0, max_all[0] - data.shape[0]), (0, max_all[1] - data.shape[1])), mode='constant')\n",
    "    all_data.append(padded_array)\n",
    "\n",
    "for name, data in data_AD_4M.items():\n",
    "    padded_array = np.pad(data, ((0, max_all[0] - data.shape[0]), (0, max_all[1] - data.shape[1])), mode='constant')\n",
    "    all_data.append(padded_array)\n",
    "\n",
    "for name, data in data_AD_12M.items():\n",
    "    padded_array = np.pad(data, ((0, max_all[0] - data.shape[0]), (0, max_all[1] - data.shape[1])), mode='constant')\n",
    "    all_data.append(padded_array)\n",
    "\n",
    "all_data = np.stack(all_data, axis=0)"
   ]
  },
  {
   "cell_type": "code",
   "execution_count": null,
   "metadata": {},
   "outputs": [],
   "source": [
    "print(\"All Data:\")\n",
    "print(all_data.shape)"
   ]
  },
  {
   "cell_type": "code",
   "execution_count": 14,
   "metadata": {},
   "outputs": [],
   "source": [
    "# Then save as .npy file\n",
    "file_path = os.path.join(save_dir, 'all_data.npy')\n",
    "np.save(file_path, all_data)"
   ]
  },
  {
   "cell_type": "code",
   "execution_count": 15,
   "metadata": {},
   "outputs": [],
   "source": [
    "# Now, for the train label - Tuple and save as pickle file - .pkl \n",
    "label = (['label']*95, \n",
    "         [0]*32 + [1]*33 + [2]*30)\n",
    "\n",
    "file_path_label = os.path.join(save_dir, 'all_label.pickle')\n",
    "\n",
    "with open(file_path_label, 'wb') as f:\n",
    "    pickle.dump(label, f)"
   ]
  }
 ],
 "metadata": {
  "kernelspec": {
   "display_name": "KShapeNet_env",
   "language": "python",
   "name": "python3"
  },
  "language_info": {
   "codemirror_mode": {
    "name": "ipython",
    "version": 3
   },
   "file_extension": ".py",
   "mimetype": "text/x-python",
   "name": "python",
   "nbconvert_exporter": "python",
   "pygments_lexer": "ipython3",
   "version": "3.12.4"
  }
 },
 "nbformat": 4,
 "nbformat_minor": 2
}
