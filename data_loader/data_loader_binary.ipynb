{
 "cells": [
  {
   "cell_type": "markdown",
   "metadata": {},
   "source": [
    "# To load the skeleton data for binary classification."
   ]
  },
  {
   "cell_type": "code",
   "execution_count": 1,
   "metadata": {},
   "outputs": [],
   "source": [
    "import pandas as pd\n",
    "import matplotlib.pyplot as plt\n",
    "import numpy as np\n",
    "import pickle\n",
    "import os"
   ]
  },
  {
   "cell_type": "code",
   "execution_count": 2,
   "metadata": {},
   "outputs": [],
   "source": [
    "# Directory to save the results (paths are modified according to category)\n",
    "save_dir = r\"C:\\Downloads\\MATLAB_DATA_FOLDERS_OiP\\2M\\76px\"\n",
    "\n",
    "if not os.path.exists(save_dir):\n",
    "    os.makedirs(save_dir)"
   ]
  },
  {
   "cell_type": "code",
   "execution_count": 3,
   "metadata": {},
   "outputs": [],
   "source": [
    "# Function to Load the CSV\n",
    "def load_csv_files_to_dict(folder_path):\n",
    "    data_dict = {}\n",
    "    for filename in os.listdir(folder_path):\n",
    "        if filename.endswith('.csv'):\n",
    "            file_path = os.path.join(folder_path, filename)\n",
    "            df = pd.read_csv(file_path).to_numpy()\n",
    "            file_key = os.path.splitext(filename)[0]\n",
    "            data_dict[file_key] = df\n",
    "\n",
    "    max_rows = max(array.shape[0] for array in data_dict.values())\n",
    "    max_cols = max(array.shape[1] for array in data_dict.values())\n",
    "    max_shape = (max_rows, max_cols)\n",
    "\n",
    "    return data_dict, max_shape"
   ]
  },
  {
   "cell_type": "code",
   "execution_count": 4,
   "metadata": {},
   "outputs": [],
   "source": [
    "dir_Non_AD = r\"C:\\Downloads\\MATLAB_DATA_FOLDERS_OiP\\2M\\76px\\Non_AD\"  #  (paths are modified according to category)\n",
    "data_Non_AD, max_Non_AD = load_csv_files_to_dict(dir_Non_AD)"
   ]
  },
  {
   "cell_type": "code",
   "execution_count": null,
   "metadata": {},
   "outputs": [],
   "source": [
    "print(len(data_Non_AD.values()))\n",
    "print(max_Non_AD)"
   ]
  },
  {
   "cell_type": "code",
   "execution_count": null,
   "metadata": {},
   "outputs": [],
   "source": [
    "dir_AD = r\"C:\\Downloads\\MATLAB_DATA_FOLDERS_OiP\\2M\\76px\\AD\"         #  (paths are modified according to category)\n",
    "data_AD, max_AD = load_csv_files_to_dict(dir_AD)\n",
    "\n",
    "print(len(data_AD.values()))\n",
    "print(max_AD)"
   ]
  },
  {
   "cell_type": "code",
   "execution_count": null,
   "metadata": {},
   "outputs": [],
   "source": [
    "max_all = max(max_Non_AD, max_AD)\n",
    "print(max_all)"
   ]
  },
  {
   "cell_type": "code",
   "execution_count": 9,
   "metadata": {},
   "outputs": [],
   "source": [
    "all_data = []\n",
    "for name, data in data_Non_AD.items():\n",
    "    padded_array = np.pad(data, ((0, max_all[0] - data.shape[0]), (0, max_all[1] - data.shape[1])), mode='constant')\n",
    "    all_data.append(padded_array)\n",
    "\n",
    "for name, data in data_AD.items():\n",
    "    padded_array = np.pad(data, ((0, max_all[0] - data.shape[0]), (0, max_all[1] - data.shape[1])), mode='constant')\n",
    "    all_data.append(padded_array)\n",
    "\n",
    "\n",
    "all_data = np.stack(all_data, axis=0)"
   ]
  },
  {
   "cell_type": "code",
   "execution_count": null,
   "metadata": {},
   "outputs": [],
   "source": [
    "print(\"All Data:\")\n",
    "print(all_data.shape)"
   ]
  },
  {
   "cell_type": "code",
   "execution_count": 12,
   "metadata": {},
   "outputs": [],
   "source": [
    "# Then save as .npy file\n",
    "file_path = os.path.join(save_dir, 'all_data.npy')\n",
    "np.save(file_path, all_data)"
   ]
  },
  {
   "cell_type": "code",
   "execution_count": 13,
   "metadata": {},
   "outputs": [],
   "source": [
    "# Now, for the train label - Tuple and save as pickle file - .pkl , binary labels depend on number of samples for each group\n",
    "label = (['label']*64, \n",
    "         [0]*32 + [1]*32)\n",
    "\n",
    "file_path_label = os.path.join(save_dir, 'all_label.pickle')\n",
    "\n",
    "with open(file_path_label, 'wb') as f:\n",
    "    pickle.dump(label, f)"
   ]
  }
 ],
 "metadata": {
  "kernelspec": {
   "display_name": "KShapeNet_env",
   "language": "python",
   "name": "python3"
  },
  "language_info": {
   "codemirror_mode": {
    "name": "ipython",
    "version": 3
   },
   "file_extension": ".py",
   "mimetype": "text/x-python",
   "name": "python",
   "nbconvert_exporter": "python",
   "pygments_lexer": "ipython3",
   "version": "3.12.4"
  }
 },
 "nbformat": 4,
 "nbformat_minor": 2
}
